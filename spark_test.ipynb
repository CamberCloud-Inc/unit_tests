{
 "cells": [
  {
   "cell_type": "markdown",
   "id": "0c9e8c97",
   "metadata": {
    "tags": []
   },
   "source": [
    "## Unit testing for spark"
   ]
  },
  {
   "cell_type": "code",
   "execution_count": 2,
   "id": "4ee6376f",
   "metadata": {
    "tags": []
   },
   "outputs": [],
   "source": [
    "import numpy as np\n",
    "import matplotlib\n",
    "import matplotlib.pyplot as plt\n",
    "import time\n",
    "import pyspark.sql.functions as F\n",
    "from pyspark.sql.types import *\n",
    "import camber"
   ]
  },
  {
   "cell_type": "code",
   "execution_count": 3,
   "id": "ad62cc0b-1b41-44e2-8e7c-35444e7598f5",
   "metadata": {
    "tags": []
   },
   "outputs": [],
   "source": [
    "def histogram2d(df, cond1, cond2, numbins1, numbins2, min1=None, max1=None, min2=None, max2=None):\n",
    "     \"\"\"\n",
    "     Uses `cond1` and `cond2` colunm expressions to obtain data for 2D histogram calculation. The data on\n",
    "     x axis will be binned into `numbins1` bins. The data on y axis will be binned into `numbins2` bins.\n",
    "     If `min1`, `max1`, `min2` or `max2` are not spacified, they will be calculated using an additional pass\n",
    "     through the data.\n",
    "     The method returns x, y and z 2-D numpy arrays (see numpy.mgrid) which can be used as an input to\n",
    "     `matplotlib.pcolormesh`.\n",
    "\n",
    "     :param cond1: Column expression determining the data on x axis.\n",
    "     :param cond2: Column expression determining the data on y axis.\n",
    "     :param numbins1: Number of bins for x axis.\n",
    "     :param numbins2: Number of bins for y axis.\n",
    "     :param min1: Optional minimum value for x axis data.\n",
    "     :param max1: Optional maximum value for x axis data.\n",
    "     :param min2: Optional minimum value for y axis data.\n",
    "     :param max2: Optional maximum value for y axis data.\n",
    "     :return: x, y, z 2-D numpy \"meshgrid\" arrays (see numpy.mgrid)\n",
    "     \"\"\"\n",
    "     colname1 = \"axs_hist_col1\"\n",
    "     colname2 = \"axs_hist_col2\"\n",
    "     res = df.select(cond1.alias(colname1), cond2.alias(colname2))\n",
    "\n",
    "     if min1 is None or max1 is None or min2 is None or max2 is None:\n",
    "         mm = res.select(F.min(res[colname1]).alias(\"min1\"), F.max(res[colname1]).alias(\"max1\"),\n",
    "                         F.min(res[colname2]).alias(\"min2\"), F.max(res[colname2]).alias(\"max2\")).\\\n",
    "             collect()\n",
    "         (min1, max1, min2, max2) = (mm[0][\"min1\"], mm[0][\"max1\"], mm[0][\"min2\"], mm[0][\"max2\"])\n",
    "  \n",
    "     rng1 = float(max1 - min1)\n",
    "     rng2 = float(max2 - min2)\n",
    "     step1 = rng1 / numbins1\n",
    "     step2 = rng2 / numbins2\n",
    "    \n",
    "     hist2d = res.withColumn(\"bin1\", ((res[colname1]-min1)/step1).cast(\"int\")*step1+min1) \\\n",
    "         .withColumn(\"bin2\", ((res[colname2]-min2)/step2).cast(\"int\")*step2+min2).\\\n",
    "         groupBy(\"bin1\", \"bin2\").count()\n",
    "   \n",
    "     hist2data = hist2d.orderBy(hist2d.bin1, hist2d.bin2).collect()\n",
    "     \n",
    "     bin1 = list(map(lambda row: row.bin1, hist2data))\n",
    "     bin2 = list(map(lambda row: row.bin2, hist2data))\n",
    "     vals = list(map(lambda row: row[\"count\"], hist2data))\n",
    "    \n",
    "     x, y = np.mgrid[slice(min1, max1 + step1, step1),\n",
    "                     slice(min2, max2 + step2, step2)]\n",
    "     z = np.zeros(x.shape)\n",
    "     \n",
    "     for b1, b2, v in zip(bin1, bin2, vals):\n",
    "         z[round((b1-min1)/step1)][round((b2-min2)/step2)] = v\n",
    "     return x, y, z"
   ]
  },
  {
   "cell_type": "code",
   "execution_count": 4,
   "id": "53c4d013",
   "metadata": {
    "tags": []
   },
   "outputs": [],
   "source": [
    "# Read in unsorted spark source catalog and set schema\n",
    "schema = StructType([StructField('solution_id', LongType(), True),\n",
    "                     StructField('designation', StringType(), True), \n",
    "                     StructField('source_id', LongType(), True), \n",
    "                     StructField('random_index', IntegerType(), True), \n",
    "                     StructField('ref_epoch', DoubleType(), True), \n",
    "                     StructField('ra', DoubleType(), True), StructField('ra_error', DoubleType(), True), \n",
    "                     StructField('dec', DoubleType(), True), StructField('dec_error', DoubleType(), True), \n",
    "                     StructField('parallax', DoubleType(), True), StructField('parallax_error', DoubleType(), True),\n",
    "                     StructField('parallax_over_error', DoubleType(), True), StructField('pm', DoubleType(), True), \n",
    "                     StructField('pmra', DoubleType(), True), StructField('pmra_error', DoubleType(), True), \n",
    "                     StructField('pmdec', DoubleType(), True), StructField('pmdec_error', DoubleType(), True), \n",
    "                     StructField('ra_dec_corr', DoubleType(), True), StructField('ra_parallax_corr', DoubleType(), True), \n",
    "                     StructField('ra_pmra_corr', DoubleType(), True), StructField('ra_pmdec_corr', DoubleType(), True), \n",
    "                     StructField('dec_parallax_corr', DoubleType(), True), StructField('dec_pmra_corr', DoubleType(), True), \n",
    "                     StructField('dec_pmdec_corr', DoubleType(), True), StructField('parallax_pmra_corr', DoubleType(), True), \n",
    "                     StructField('parallax_pmdec_corr', DoubleType(), True), StructField('pmra_pmdec_corr', DoubleType(), True), \n",
    "                     StructField('astrometric_n_obs_al', IntegerType(), True), StructField('astrometric_n_obs_ac', IntegerType(), True), \n",
    "                     StructField('astrometric_n_good_obs_al', IntegerType(), True), StructField('astrometric_n_bad_obs_al', IntegerType(), True), \n",
    "                     StructField('astrometric_gof_al', DoubleType(), True), StructField('astrometric_chi2_al', DoubleType(), True), \n",
    "                     StructField('astrometric_excess_noise', DoubleType(), True), StructField('astrometric_excess_noise_sig', DoubleType(), True), StructField('astrometric_params_solved', IntegerType(), True), \n",
    "                     StructField('astrometric_primary_flag', BooleanType(), True), StructField('nu_eff_used_in_astrometry', DoubleType(), True), StructField('pseudocolour', DoubleType(), True), StructField('pseudocolour_error', DoubleType(), True), StructField('ra_pseudocolour_corr', DoubleType(), True), \n",
    "                     StructField('dec_pseudocolour_corr', DoubleType(), True), StructField('parallax_pseudocolour_corr', DoubleType(), True), StructField('pmra_pseudocolour_corr', DoubleType(), True), StructField('pmdec_pseudocolour_corr', DoubleType(), True), \n",
    "                     StructField('astrometric_matched_transits', IntegerType(), True), StructField('visibility_periods_used', IntegerType(), True), StructField('astrometric_sigma5d_max', DoubleType(), True), StructField('matched_transits', IntegerType(), True), StructField('new_matched_transits', IntegerType(), True), \n",
    "                     StructField('matched_transits_removed', IntegerType(), True), StructField('ipd_gof_harmonic_amplitude', DoubleType(), True), StructField('ipd_gof_harmonic_phase', DoubleType(), True), StructField('ipd_frac_multi_peak', IntegerType(), True), StructField('ipd_frac_odd_win', IntegerType(), True), \n",
    "                     StructField('ruwe', DoubleType(), True), StructField('scan_direction_strength_k1', DoubleType(), True), StructField('scan_direction_strength_k2', DoubleType(), True), StructField('scan_direction_strength_k3', DoubleType(), True), StructField('scan_direction_strength_k4', DoubleType(), True), \n",
    "                     StructField('scan_direction_mean_k1', DoubleType(), True), StructField('scan_direction_mean_k2', DoubleType(), True), StructField('scan_direction_mean_k3', DoubleType(), True), StructField('scan_direction_mean_k4', DoubleType(), True), StructField('duplicated_source', BooleanType(), True), StructField('phot_g_n_obs', IntegerType(), True), StructField('phot_g_mean_flux', DoubleType(), True), StructField('phot_g_mean_flux_error', DoubleType(), True), StructField('phot_g_mean_flux_over_error', DoubleType(), True), StructField('phot_g_mean_mag', DoubleType(), True), StructField('phot_bp_n_obs', IntegerType(), True), StructField('phot_bp_mean_flux', DoubleType(), True), StructField('phot_bp_mean_flux_error', DoubleType(), True), StructField('phot_bp_mean_flux_over_error', DoubleType(), True), StructField('phot_bp_mean_mag', DoubleType(), True), StructField('phot_rp_n_obs', IntegerType(), True), StructField('phot_rp_mean_flux', DoubleType(), True), StructField('phot_rp_mean_flux_error', DoubleType(), True), StructField('phot_rp_mean_flux_over_error', DoubleType(), True), StructField('phot_rp_mean_mag', DoubleType(), True), StructField('phot_bp_n_contaminated_transits', IntegerType(), True), StructField('phot_bp_n_blended_transits', IntegerType(), True), StructField('phot_rp_n_contaminated_transits', IntegerType(), True), StructField('phot_rp_n_blended_transits', IntegerType(), True), StructField('phot_proc_mode', IntegerType(), True), StructField('phot_bp_rp_excess_factor', DoubleType(), True), StructField('bp_rp', DoubleType(), True), StructField('bp_g', DoubleType(), True), StructField('g_rp', DoubleType(), True), StructField('dr2_radial_velocity', DoubleType(), True), StructField('dr2_radial_velocity_error', DoubleType(), True), StructField('dr2_rv_nb_transits', IntegerType(), True), StructField('dr2_rv_template_teff', DoubleType(), True), StructField('dr2_rv_template_logg', DoubleType(), True), StructField('dr2_rv_template_fe_h', DoubleType(), True), StructField('l', DoubleType(), True), StructField('b', DoubleType(), True), StructField('ecl_lon', DoubleType(), True), StructField('ecl_lat', DoubleType(), True)])\n"
   ]
  },
  {
   "cell_type": "code",
   "execution_count": 4,
   "id": "942fbb5d-d72b-4ad4-849a-b025bca4b286",
   "metadata": {
    "tags": []
   },
   "outputs": [],
   "source": [
    "# Old camber provisioning\n",
    "#import camber\n",
    "#spark = camber.spark.connect(num_executors=2, executor_cores=63, executor_memory='440G')"
   ]
  },
  {
   "cell_type": "code",
   "execution_count": 5,
   "id": "fbe75026-cb7f-4ca2-82d1-ef21c4b598ab",
   "metadata": {
    "tags": []
   },
   "outputs": [],
   "source": [
    "worker_size = 'XSMALL'"
   ]
  },
  {
   "cell_type": "code",
   "execution_count": 6,
   "id": "50bb0dc4",
   "metadata": {
    "tags": []
   },
   "outputs": [
    {
     "data": {
      "application/vnd.jupyter.widget-view+json": {
       "model_id": "097a64bcfab74d3bb9c83d3fae113664",
       "version_major": 2,
       "version_minor": 0
      },
      "text/plain": [
       "Output()"
      ]
     },
     "metadata": {},
     "output_type": "display_data"
    }
   ],
   "source": [
    "ti = time.time()\n",
    "spark = camber.spark.connect(worker_size = worker_size)\n",
    "tf = time.time()\n",
    "spark_time = tf-ti"
   ]
  },
  {
   "cell_type": "code",
   "execution_count": 7,
   "id": "b7a8e35b-9c63-4b35-ad9d-b4698fdde51b",
   "metadata": {
    "tags": []
   },
   "outputs": [],
   "source": [
    "df = spark.read.csv(\"s3a://camber-spark-bkt/shared-data/gaia/gedr3/GaiaSource_0*.csv.gz\",header=True,schema=schema)"
   ]
  },
  {
   "cell_type": "code",
   "execution_count": 8,
   "id": "dd85db4b",
   "metadata": {
    "tags": []
   },
   "outputs": [],
   "source": [
    "ti = time.time()\n",
    "x, y, z = histogram2d(df, df.ra, df.dec, 1000, 1000, min1=0, max1=360, min2=-90, max2=90)\n",
    "tf = time.time()\n",
    "hist_time = tf-ti"
   ]
  },
  {
   "cell_type": "code",
   "execution_count": 9,
   "id": "aa20d3e7-c239-4eb4-a204-208b894d5ff8",
   "metadata": {
    "tags": []
   },
   "outputs": [],
   "source": [
    "spark.stop()"
   ]
  },
  {
   "cell_type": "code",
   "execution_count": 10,
   "id": "fcec0e6a-bbaa-4950-a000-b52668e98c39",
   "metadata": {
    "tags": []
   },
   "outputs": [
    {
     "name": "stdout",
     "output_type": "stream",
     "text": [
      "Spark provision time this run: 3.805798e+01 for worker size XSMALL\n",
      "Histogram time this run: 1.850988e+02 for worker size XSMALL\n"
     ]
    }
   ],
   "source": [
    "print(\"Spark provision time this run: {:e} for worker size \".format(spark_time)+worker_size)\n",
    "print(\"Histogram time this run: {:e} for worker size \".format(hist_time)+worker_size)"
   ]
  },
  {
   "cell_type": "code",
   "execution_count": 11,
   "id": "8f0fb1ce-776d-475b-b073-8498a5f76639",
   "metadata": {
    "tags": []
   },
   "outputs": [],
   "source": [
    "spark_target_xsmall = 10.\n",
    "hist_target_xsmall = 175."
   ]
  },
  {
   "cell_type": "code",
   "execution_count": null,
   "id": "9a23f12c-2a0b-42ef-a597-ac3010168876",
   "metadata": {},
   "outputs": [],
   "source": []
  }
 ],
 "metadata": {
  "kernelspec": {
   "display_name": "PyCamber",
   "language": "python",
   "name": "python3"
  },
  "language_info": {
   "codemirror_mode": {
    "name": "ipython",
    "version": 3
   },
   "file_extension": ".py",
   "mimetype": "text/x-python",
   "name": "python",
   "nbconvert_exporter": "python",
   "pygments_lexer": "ipython3",
   "version": "3.10.10"
  },
  "toc-showcode": false,
  "toc-showtags": false
 },
 "nbformat": 4,
 "nbformat_minor": 5
}
