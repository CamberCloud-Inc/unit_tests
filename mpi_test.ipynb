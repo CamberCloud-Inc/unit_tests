{
 "cells": [
  {
   "cell_type": "markdown",
   "id": "48bf00ff-4774-4680-a847-701bc9334200",
   "metadata": {},
   "source": [
    "### Unit testing for MPI"
   ]
  },
  {
   "cell_type": "code",
   "execution_count": 1,
   "id": "6a3fd93d-2edb-44b9-be1f-751f149060ea",
   "metadata": {
    "tags": []
   },
   "outputs": [],
   "source": [
    "import camber\n",
    "import os\n",
    "import time\n",
    "from IPython.utils import io\n",
    "import numpy as np"
   ]
  },
  {
   "cell_type": "code",
   "execution_count": null,
   "id": "11d41855-efbf-47b1-93b2-fe590cbd22ad",
   "metadata": {
    "tags": []
   },
   "outputs": [],
   "source": [
    "# SWD -- cannot currently change working dir as camber.mpi.run puts all output it top level directory\n",
    "#os.chdir(\"/pathto/mpitests\")\n",
    "#os.getcwd()"
   ]
  },
  {
   "cell_type": "code",
   "execution_count": 23,
   "id": "88149bfa-7a9c-416c-9dfd-352749bf8bb4",
   "metadata": {
    "tags": []
   },
   "outputs": [
    {
     "data": {
      "text/plain": [
       "0"
      ]
     },
     "execution_count": 23,
     "metadata": {},
     "output_type": "execute_result"
    }
   ],
   "source": [
    "#Copy input file from inputs directory to working directory\n",
    "os.system(\"cp mpi_inputs/athinput.orszag-tang-test .\")"
   ]
  },
  {
   "cell_type": "code",
   "execution_count": 3,
   "id": "d2741e92-2b10-47ee-9c28-04872ca9476f",
   "metadata": {
    "tags": []
   },
   "outputs": [
    {
     "data": {
      "application/vnd.jupyter.widget-view+json": {
       "model_id": "cf986b14c7524eacb461ad27105c92c2",
       "version_major": 2,
       "version_minor": 0
      },
      "text/plain": [
       "Output()"
      ]
     },
     "metadata": {},
     "output_type": "display_data"
    }
   ],
   "source": [
    "# Using python timing for performance evaluation, would be better/useful to also get diagnostics directly from Athena++ output\n",
    "worker_size = \"LARGE\"\n",
    "ti = time.time()\n",
    "worker = camber.mpi.run(\n",
    "    command=\"mpirun -np 32 athena/bin/athena -i athinput.orszag-tang-test\",\n",
    "    worker_size=worker_size\n",
    ")\n",
    "tf = time.time()\n",
    "wait_start_time = tf-ti"
   ]
  },
  {
   "cell_type": "code",
   "execution_count": 21,
   "id": "c5d22731-2d86-4522-aa0f-d82a39e12897",
   "metadata": {
    "tags": []
   },
   "outputs": [],
   "source": [
    "# get diagnostics from logs\n",
    "with io.capture_output() as captured:\n",
    "    worker.read_logs(tail_lines=2)\n",
    "walltime = float(captured.stdout.split()[6])\n",
    "cyclerate = float(captured.stdout.split()[11])"
   ]
  },
  {
   "cell_type": "code",
   "execution_count": 25,
   "id": "6d53c270-3998-4245-a2dd-155ef5768463",
   "metadata": {
    "tags": []
   },
   "outputs": [
    {
     "data": {
      "text/plain": [
       "0"
      ]
     },
     "execution_count": 25,
     "metadata": {},
     "output_type": "execute_result"
    }
   ],
   "source": [
    "# copy and compile files for joining vtk outputs\n",
    "os.system(\"cp mpi_inputs/athena_read.py .\")\n",
    "import athena_read\n",
    "os.system(\"cp mpi_inputs/join_vtk++.c .\")\n",
    "os.system(\"gcc -o join_vtk++ join_vtk++.c\")"
   ]
  },
  {
   "cell_type": "code",
   "execution_count": 34,
   "id": "56e25323-4cef-4904-9b32-eb9fab140f8c",
   "metadata": {
    "tags": []
   },
   "outputs": [
    {
     "data": {
      "text/plain": [
       "0"
      ]
     },
     "execution_count": 34,
     "metadata": {},
     "output_type": "execute_result"
    }
   ],
   "source": [
    "# create joined file from last output\n",
    "os.system(\"cp ../OrszagTang.block*.out2.00100.vtk .\")\n",
    "os.system(\"./join_vtk++ -o final.vtk OrszagTang.*.out2.00100.vtk\")"
   ]
  },
  {
   "cell_type": "code",
   "execution_count": 37,
   "id": "0a50adff-9f27-44d6-8acb-e2755d0e77da",
   "metadata": {
    "tags": []
   },
   "outputs": [],
   "source": [
    "# Check that output matches target\n",
    "x, y, z, final = athena_read.vtk(\"final.vtk\")\n",
    "x, y, z, target = athena_read.vtk(\"mpi_inputs/target.vtk\")\n",
    "error = np.average(abs(final['rho']-target['rho'])/target['rho'])"
   ]
  },
  {
   "cell_type": "code",
   "execution_count": 41,
   "id": "92e208e4-b1d8-4822-b45c-360cc9862d56",
   "metadata": {
    "tags": []
   },
   "outputs": [
    {
     "name": "stdout",
     "output_type": "stream",
     "text": [
      "MPI start-uptime this run: 5.196135e+00 for worker size LARGE\n",
      "Orszag-Tang time this run: 4.331959e+01 for worker size LARGE\n",
      "Orszag-Tang zone cycles/second this run: 2.209970e+07\n",
      "Expected zones cycles per second is ~2e7\n",
      "Mean error in density in final frame: 0.000000e+00\n"
     ]
    }
   ],
   "source": [
    "print(\"MPI start-uptime this run: {:e} for worker size \".format(wait_start_time)+worker_size)\n",
    "print(\"Orszag-Tang time this run: {:e} for worker size \".format(walltime)+worker_size)\n",
    "print(\"Orszag-Tang zone cycles/second this run: {:e}\".format(cyclerate))\n",
    "print(\"Expected zones cycles per second is ~2e7\")\n",
    "print(\"Mean error in density in final frame: {:e}\".format(error))\n"
   ]
  },
  {
   "cell_type": "code",
   "execution_count": 44,
   "id": "0a17e777-a69d-4687-bd9a-3bd167057284",
   "metadata": {
    "tags": []
   },
   "outputs": [
    {
     "data": {
      "text/plain": [
       "256"
      ]
     },
     "execution_count": 44,
     "metadata": {},
     "output_type": "execute_result"
    }
   ],
   "source": [
    "# clean up files in working directory\n",
    "os.system(\"rm athinput.orszag-tang-test\")\n",
    "os.system(\"rm athena_read.py\")\n",
    "os.system(\"rm join_vtk++.c\")\n",
    "os.system(\"rm join_vtk++\")\n",
    "os.system(\"rm OrszagTang.block*.out2.00100.vtk final.vtk\")"
   ]
  },
  {
   "cell_type": "code",
   "execution_count": null,
   "id": "7f60a78e-89ed-4c8c-b451-27bf37a96263",
   "metadata": {},
   "outputs": [],
   "source": []
  }
 ],
 "metadata": {
  "kernelspec": {
   "display_name": "PyCamber",
   "language": "python",
   "name": "python3"
  },
  "language_info": {
   "codemirror_mode": {
    "name": "ipython",
    "version": 3
   },
   "file_extension": ".py",
   "mimetype": "text/x-python",
   "name": "python",
   "nbconvert_exporter": "python",
   "pygments_lexer": "ipython3",
   "version": "3.10.10"
  }
 },
 "nbformat": 4,
 "nbformat_minor": 5
}
