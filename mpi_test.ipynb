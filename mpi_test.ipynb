{
 "cells": [
  {
   "cell_type": "markdown",
   "id": "48bf00ff-4774-4680-a847-701bc9334200",
   "metadata": {},
   "source": [
    "### Unit testing for MPI"
   ]
  },
  {
   "cell_type": "code",
   "execution_count": 1,
   "id": "6a3fd93d-2edb-44b9-be1f-751f149060ea",
   "metadata": {
    "tags": []
   },
   "outputs": [],
   "source": [
    "import camber\n",
    "import os\n",
    "import time\n",
    "from IPython.utils import io\n",
    "import numpy as np\n",
    "import athena_read"
   ]
  },
  {
   "cell_type": "code",
   "execution_count": null,
   "id": "11d41855-efbf-47b1-93b2-fe590cbd22ad",
   "metadata": {
    "tags": []
   },
   "outputs": [],
   "source": [
    "# SWD -- cannot currently change working dir as camber.mpi.run puts all output it top level directory\n",
    "#os.chdir(\"/home/cambercloud/mpitests\")\n",
    "#os.getcwd()"
   ]
  },
  {
   "cell_type": "code",
   "execution_count": null,
   "id": "2b4cca24-7adc-4f32-ab41-71a0933d9ee0",
   "metadata": {
    "tags": []
   },
   "outputs": [],
   "source": [
    "# old method\n",
    "#with io.capture_output() as captured:\n",
    "#    camber.mpi.run(\n",
    "#        base_command=[\"fluid_simulation/athena/bin/athena\", \"-i\", \"athinput.orszag-tang-test\"],\n",
    "#        num_copies=5)\n"
   ]
  },
  {
   "cell_type": "code",
   "execution_count": null,
   "id": "d2741e92-2b10-47ee-9c28-04872ca9476f",
   "metadata": {
    "tags": []
   },
   "outputs": [],
   "source": [
    "# Using python timing for performance evaluation, would be better/useful to also get diagnostics directly from Athena++ output\n",
    "worker_size = \"XSMALL\"\n",
    "ti = time.time()\n",
    "worker = camber.mpi.run(\n",
    "    command=\"mpirun -np 5 fluid_simulation/athena/bin/athena -i athinput.orszag-tang-test\",\n",
    "    worker_size=worker_size\n",
    ")\n",
    "tf = time.time()\n",
    "mpi_time = tf-ti"
   ]
  },
  {
   "cell_type": "code",
   "execution_count": null,
   "id": "433d14a8-fd0b-4a7e-96db-4d4f625dc74f",
   "metadata": {
    "tags": []
   },
   "outputs": [],
   "source": [
    "# Attempt ot get information out logs (currently fails, probably due to user error)\n",
    "# log = worker.read_logs(follow=True)\n",
    "#walltime = float(lines[-2].split()[4])\n",
    "#cyclerate = float(lines[-1].split()[2])"
   ]
  },
  {
   "cell_type": "code",
   "execution_count": 2,
   "id": "6ec10ee5-db96-4ee0-a62e-f8f6ec5bfd02",
   "metadata": {
    "tags": []
   },
   "outputs": [
    {
     "data": {
      "text/plain": [
       "32256"
      ]
     },
     "execution_count": 2,
     "metadata": {},
     "output_type": "execute_result"
    }
   ],
   "source": [
    "os.system(\"./join_vtk -o final.vtk OrszagTang.*.out2.00100.vtk\")"
   ]
  },
  {
   "cell_type": "code",
   "execution_count": 3,
   "id": "0a50adff-9f27-44d6-8acb-e2755d0e77da",
   "metadata": {
    "tags": []
   },
   "outputs": [],
   "source": [
    "x, y, z, final = athena_read.vtk(\"final.vtk\")\n",
    "x, y, z, target = athena_read.vtk(\"target.vtk\")\n",
    "error = np.average(abs(final['rho']-target['rho'])/target['rho'])"
   ]
  },
  {
   "cell_type": "code",
   "execution_count": null,
   "id": "2d08baf8-9a0b-4b86-8516-36d4d86de574",
   "metadata": {
    "tags": []
   },
   "outputs": [],
   "source": [
    "#walltarget=200.\n",
    "#cycletarge=4.e6\n",
    "#print(\"Wallclock time this run: {:e} vs typical: {:e}\".format(walltime,walltarget))\n",
    "#print(\"Cell cycles/sec this run: {:e} vs typical: {:e}\".format(cyclerate,cycletarge))"
   ]
  },
  {
   "cell_type": "code",
   "execution_count": 4,
   "id": "92e208e4-b1d8-4822-b45c-360cc9862d56",
   "metadata": {
    "tags": []
   },
   "outputs": [
    {
     "name": "stdout",
     "output_type": "stream",
     "text": [
      "Mean error in density in final frame: 6.104686e-04\n"
     ]
    }
   ],
   "source": [
    "print(\"Orszag-Tang time this run: {:e} for worker size \".format(hist_time)+worker_size)\n",
    "print(\"Mean error in density in final frame: {:e}\".format(error))"
   ]
  },
  {
   "cell_type": "code",
   "execution_count": null,
   "id": "0a17e777-a69d-4687-bd9a-3bd167057284",
   "metadata": {},
   "outputs": [],
   "source": []
  }
 ],
 "metadata": {
  "kernelspec": {
   "display_name": "PyCamber",
   "language": "python",
   "name": "python3"
  },
  "language_info": {
   "codemirror_mode": {
    "name": "ipython",
    "version": 3
   },
   "file_extension": ".py",
   "mimetype": "text/x-python",
   "name": "python",
   "nbconvert_exporter": "python",
   "pygments_lexer": "ipython3",
   "version": "3.10.10"
  }
 },
 "nbformat": 4,
 "nbformat_minor": 5
}
